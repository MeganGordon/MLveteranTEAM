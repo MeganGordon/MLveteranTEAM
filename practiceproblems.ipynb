{
 "cells": [
  {
   "cell_type": "code",
   "execution_count": null,
   "id": "f0658d9b-2631-4c3d-9f7b-53383a9cc011",
   "metadata": {
    "tags": []
   },
   "outputs": [],
   "source": [
    "# For most types, just use the name of the type\n",
    "x: int = 1\n",
    "x: float = 1.0\n",
    "x: bool = True\n",
    "x: str = \"test\"\n",
    "x: bytes = b\"test\"\n",
    "\n",
    "# For collections on Python 3.9+, the type of the collection item is in brackets\n",
    "x: list[int] = [1]\n",
    "x: set[int] = {6, 7}\n",
    "\n",
    "# For mappings, we need the types of both keys and values\n",
    "x: dict[str, float] = {\"field\": 2.0}  # Python 3.9+\n",
    "\n",
    "# For tuples of fixed size, we specify the types of all the elements\n",
    "x: tuple[int, str, float] = (3, \"yes\", 7.5)  # Python 3.9+\n",
    "\n",
    "# For tuples of variable size, we use one type and ellipsis\n",
    "x: tuple[int, ...] = (1, 2, 3)  # Python 3.9+\n",
    "\n",
    "# On Python 3.8 and earlier, the name of the collection type is\n",
    "# capitalized, and the type is imported from the 'typing' module\n",
    "from typing import List, Set, Dict, Tuple\n",
    "x: List[int] = [1]\n",
    "x: Set[int] = {6, 7}\n",
    "x: Dict[str, float] = {\"field\": 2.0}\n",
    "x: Tuple[int, str, float] = (3, \"yes\", 7.5)\n",
    "x: Tuple[int, ...] = (1, 2, 3)\n",
    "\n",
    "from typing import Union, Optional\n",
    "\n",
    "# On Python 3.10+, use the | operator when something could be one of a few types\n",
    "x: list[int , str] = [3, 5, \"test\", \"fun\"]  # Python 3.10+\n",
    "# On earlier versions, use Union\n",
    "x: list[Union[int, str]] = [3, 5, \"test\", \"fun\"]\n",
    "\n",
    "\n",
    "'''\n",
    "# Use Optional[X] for a value that could be None\n",
    "# Optional[X] is the same as X | None or Union[X, None]\n",
    "#x: Optional[str] = \"something\" \n",
    "if is_datatype(str):\n",
    "    pass\n",
    "else:\n",
    "    None\n",
    "# Mypy understands a value can't be None in an if-statement\n",
    "if x is not None:\n",
    "    print(x.upper())\n",
    "# If a value can never be None due to some invariants, use an assert\n",
    "assert x is not None\n",
    "print(x.upper())\n",
    "'''"
   ]
  },
  {
   "cell_type": "code",
   "execution_count": null,
   "id": "45cad824-aa7b-481e-b521-cbc80b55e64f",
   "metadata": {
    "tags": []
   },
   "outputs": [],
   "source": [
    "import numpy as np\n",
    "x: np.array(str) = ()\n",
    "\n",
    "\n",
    "arr = np.array([[1, 2, 3, 4], [5, 6, 7, 8]])\n",
    "\n",
    "print(arr.shape) \n",
    "\n",
    "arr[1,2]"
   ]
  },
  {
   "cell_type": "code",
   "execution_count": 2,
   "id": "9ba0965f-11f3-4c28-950f-04cb24775562",
   "metadata": {
    "tags": []
   },
   "outputs": [
    {
     "name": "stdout",
     "output_type": "stream",
     "text": [
      "['hso', 'sof', 'ofn', 'fnk', 'nks', 'ksk', 'skf', 'kfn', 'fnh', 'nhs', 'hso']\n",
      "0\n",
      "hso\n",
      "9\n",
      "hso\n",
      "\n",
      "9\n",
      "hso\n"
     ]
    },
    {
     "ename": "ValueError",
     "evalue": "'hso' is not in list",
     "output_type": "error",
     "traceback": [
      "\u001b[0;31m---------------------------------------------------------------------------\u001b[0m",
      "\u001b[0;31mValueError\u001b[0m                                Traceback (most recent call last)",
      "\u001b[0;32m/tmp/ipykernel_65204/3770491347.py\u001b[0m in \u001b[0;36m<module>\u001b[0;34m\u001b[0m\n\u001b[1;32m     17\u001b[0m             \u001b[0mprint\u001b[0m\u001b[0;34m(\u001b[0m\u001b[0mi\u001b[0m\u001b[0;34m)\u001b[0m\u001b[0;34m\u001b[0m\u001b[0;34m\u001b[0m\u001b[0m\n\u001b[1;32m     18\u001b[0m             \u001b[0mthislist\u001b[0m\u001b[0;34m.\u001b[0m\u001b[0mremove\u001b[0m\u001b[0;34m(\u001b[0m\u001b[0mi\u001b[0m\u001b[0;34m)\u001b[0m\u001b[0;34m\u001b[0m\u001b[0;34m\u001b[0m\u001b[0m\n\u001b[0;32m---> 19\u001b[0;31m             \u001b[0mprint\u001b[0m\u001b[0;34m(\u001b[0m\u001b[0mthislist\u001b[0m\u001b[0;34m.\u001b[0m\u001b[0mindex\u001b[0m\u001b[0;34m(\u001b[0m\u001b[0mj\u001b[0m\u001b[0;34m)\u001b[0m\u001b[0;34m)\u001b[0m\u001b[0;34m\u001b[0m\u001b[0;34m\u001b[0m\u001b[0m\n\u001b[0m\u001b[1;32m     20\u001b[0m             \u001b[0mprint\u001b[0m\u001b[0;34m(\u001b[0m\u001b[0mj\u001b[0m\u001b[0;34m)\u001b[0m\u001b[0;34m\u001b[0m\u001b[0;34m\u001b[0m\u001b[0m\n\u001b[1;32m     21\u001b[0m             \u001b[0mprint\u001b[0m\u001b[0;34m(\u001b[0m\u001b[0;34m)\u001b[0m\u001b[0;34m\u001b[0m\u001b[0;34m\u001b[0m\u001b[0m\n",
      "\u001b[0;31mValueError\u001b[0m: 'hso' is not in list"
     ]
    }
   ],
   "source": [
    "word: str = 'hsofnkskfnhso'\n",
    "N = 3\n",
    "\n",
    "\n",
    "thislist: list = []\n",
    "for i in range(len(word)-N+1):\n",
    "    substring: str = ''\n",
    "    for j in range(N):\n",
    "        substring = substring + word[i+j]\n",
    "    thislist.insert(i, substring)\n",
    "print(thislist)\n",
    "\n",
    "for i in thislist:\n",
    "    for j in thislist:\n",
    "        if i == j:\n",
    "            print(thislist.index(i)) \n",
    "            print(i)\n",
    "            thislist.remove(i)\n",
    "            print(thislist.index(j))\n",
    "            print(j)\n",
    "            print()\n",
    "        "
   ]
  },
  {
   "cell_type": "markdown",
   "id": "0c38fa04-fdd9-4c7e-9693-7f5e79c711cc",
   "metadata": {},
   "source": [
    "Practice interview question from David"
   ]
  },
  {
   "cell_type": "code",
   "execution_count": 6,
   "id": "244fc59d-8f27-4d96-bb87-7b4a8a1c11db",
   "metadata": {},
   "outputs": [
    {
     "name": "stdout",
     "output_type": "stream",
     "text": [
      "4 and 25\n",
      "25 and 4\n"
     ]
    }
   ],
   "source": [
    "dictionarium : dict = {}\n",
    "word1 : str  = 'hjfkhuhsajkflskliurp pj dhuhklsa'\n",
    "N1 : int = 3 \n",
    "\n",
    "def my_function(N, word):\n",
    "    wordlength = len(word)\n",
    "    for i in range(wordlength - N +1):\n",
    "        smallstring : str = ''\n",
    "        for j in range(N):\n",
    "            smallstring = smallstring + word[i+j]\n",
    "            dictionarium[i] = smallstring\n",
    "    for key1, value1 in dictionarium.items():\n",
    "        for key2, value2 in dictionarium.items():\n",
    "            if key1 != key2:\n",
    "                if value1 == value2:\n",
    "                    print(str(key1) + ' and ' + str(key2))\n",
    "    return dictionarium\n",
    "\n",
    "dictionarium = my_function(N1, word1)\n",
    "        "
   ]
  },
  {
   "cell_type": "code",
   "execution_count": 4,
   "id": "23e0f45d-a6bc-412e-a82a-4cbd39e22ef5",
   "metadata": {},
   "outputs": [
    {
     "name": "stdout",
     "output_type": "stream",
     "text": [
      "{0: 'hjf', 1: 'jfk', 2: 'fkh', 3: 'khu', 4: 'huh', 5: 'uhs', 6: 'hsa', 7: 'saj', 8: 'ajk', 9: 'jkf', 10: 'kfl', 11: 'fls', 12: 'lsk', 13: 'skl', 14: 'kli', 15: 'liu', 16: 'iur', 17: 'urp', 18: 'rp ', 19: 'p p', 20: ' pj', 21: 'pj ', 22: 'j d', 23: ' dh', 24: 'dhu', 25: 'huh', 26: 'uhk', 27: 'hkl', 28: 'kls', 29: 'lsa'}\n"
     ]
    }
   ],
   "source": [
    "print(dictionarium)"
   ]
  },
  {
   "cell_type": "code",
   "execution_count": null,
   "id": "401cc478-dd18-45cf-957a-cfd1849685cb",
   "metadata": {},
   "outputs": [],
   "source": [
    "favorite_languages = {\n",
    "'jen': 'python',\n",
    "'sarah': 'c',\n",
    "'edward': 'ruby',\n",
    "'phil': 'python',\n",
    "}\n",
    "'''\n",
    "for name, language in favorite_languages.items():\n",
    "    print(f\"{name.title()}'s favorite language is {language.title()}.\")\n",
    "    '''\n",
    "for name in favorite_languages.keys():\n",
    "    print(name)\n",
    "    \n",
    "    "
   ]
  },
  {
   "cell_type": "markdown",
   "id": "38274cf9-1f2a-4f0f-86ba-b1b6ad085d7c",
   "metadata": {},
   "source": [
    "At a particular university, letter grades are mapped to grade points in the following\n",
    "manner:\n",
    "\n",
    "Letter Grade points\n",
    "A+ 4.0\n",
    "A 4.0\n",
    "A− 3.7\n",
    "B+ 3.3\n",
    "B 3.0\n",
    "B− 2.7\n",
    "C+ 2.3\n",
    "C 2.0\n",
    "C− 1.7\n",
    "D+ 1.3\n",
    "D 1.0\n",
    "F 0\n",
    "\n",
    "Write a program that begins by reading a letter grade from the user. Then your\n",
    "program should compute and display the equivalent number of grade points. Ensure\n",
    "\n",
    "This copy belongs to 'acha04'\n",
    "\n",
    "24 2 If Statement Exercises\n",
    "that your program generates an appropriate error message if the user enters an invalid\n",
    "letter grade."
   ]
  },
  {
   "cell_type": "markdown",
   "id": "1e3c24eb-66da-433e-bc37-d9bd9bf31811",
   "metadata": {},
   "source": [
    "############# TRY THIS WITH try catch"
   ]
  },
  {
   "cell_type": "code",
   "execution_count": 8,
   "id": "f1ba655b-88b4-4911-9d2e-62552aa2e828",
   "metadata": {},
   "outputs": [
    {
     "name": "stdin",
     "output_type": "stream",
     "text": [
      "Please enter your letter grade a-\n",
      "Please enter a valid input for your letter grade A-\n"
     ]
    },
    {
     "name": "stdout",
     "output_type": "stream",
     "text": [
      "3.7\n"
     ]
    }
   ],
   "source": [
    "lettergrade : dict = {'A+': 4.0, 'A': 4.0, 'A-': 3.7, 'B+': 3.3, 'B': 3.0, 'B-': 2.7, 'C+' : 2.3, 'C' : 2.0 , 'C-' : 1.7, 'D+': 1.3, 'D' : 1.0} \n",
    "inputgrade = input('Please enter your letter grade')\n",
    "\n",
    "\n",
    "while inputgrade not in lettergrade.keys():\n",
    "    inputgrade = input('Please enter a valid input for your letter grade')\n",
    "\n",
    "print(lettergrade[inputgrade])"
   ]
  },
  {
   "cell_type": "markdown",
   "id": "bd6efb37-ed25-4322-aa48-a537faca5666",
   "metadata": {},
   "source": [
    "#Problem description:\n",
    "Given an integer n, return a string array result where:\n",
    "\n",
    "    result[i] == “FizzBuzz” if i is divisible by 3 and 5.\n",
    "    result[i] == “Fizz” if i is divisible by 3.\n",
    "    result[i] == “Buzz” if i is divisible by 5.\n",
    "    result[i] == i in any other case.\n"
   ]
  },
  {
   "cell_type": "code",
   "execution_count": 9,
   "id": "ce98fdda-ace6-42b2-88b7-863342af4a29",
   "metadata": {},
   "outputs": [
    {
     "name": "stdout",
     "output_type": "stream",
     "text": [
      "FizzBuzz\n",
      "1\n",
      "2\n",
      "Fizz\n",
      "4\n",
      "Buzz\n",
      "Fizz\n",
      "7\n",
      "8\n",
      "Fizz\n",
      "Buzz\n",
      "11\n",
      "Fizz\n",
      "13\n",
      "14\n",
      "FizzBuzz\n",
      "16\n",
      "17\n",
      "Fizz\n",
      "19\n",
      "Buzz\n",
      "Fizz\n",
      "22\n",
      "23\n",
      "Fizz\n",
      "Buzz\n",
      "26\n",
      "Fizz\n",
      "28\n",
      "29\n",
      "FizzBuzz\n"
     ]
    }
   ],
   "source": [
    "for i in range(31):\n",
    "    if int(i/3) == i/3 and int(i/5) == i/5:\n",
    "        print('FizzBuzz')\n",
    "    else:\n",
    "        if int(i/3) == i/3:\n",
    "            print('Fizz')\n",
    "        else:\n",
    "            if int(i/5) == i/5 :\n",
    "                print('Buzz')\n",
    "            else:\n",
    "                print(i)"
   ]
  },
  {
   "cell_type": "code",
   "execution_count": 10,
   "id": "7b9388a0-a482-4bda-9df0-b4f20c731304",
   "metadata": {},
   "outputs": [
    {
     "name": "stdout",
     "output_type": "stream",
     "text": [
      "FizzBuzz\n",
      "1\n",
      "2\n",
      "Fizz\n",
      "4\n",
      "Buzz\n",
      "Fizz\n",
      "7\n",
      "8\n",
      "Fizz\n",
      "Buzz\n",
      "11\n",
      "Fizz\n",
      "13\n",
      "14\n",
      "FizzBuzz\n",
      "16\n",
      "17\n",
      "Fizz\n",
      "19\n",
      "Buzz\n",
      "Fizz\n",
      "22\n",
      "23\n",
      "Fizz\n",
      "Buzz\n",
      "26\n",
      "Fizz\n",
      "28\n",
      "29\n",
      "FizzBuzz\n"
     ]
    }
   ],
   "source": [
    "for i in range(31):\n",
    "    if int(i/3) == i/3 and int(i/5) == i/5:\n",
    "        print('FizzBuzz')\n",
    "    elif int(i/3) == i/3:\n",
    "        print('Fizz')\n",
    "    elif int(i/5) == i/5:\n",
    "        print('Buzz')\n",
    "    else:\n",
    "        print(i)"
   ]
  },
  {
   "cell_type": "markdown",
   "id": "e8933a1c-145e-44e9-9ca0-eb1d2f48cd81",
   "metadata": {},
   "source": [
    "# Problem description:\n",
    "\n",
    "Given a signed (positive or negative) integer x, return x with its digits reversed. The input integer x must be in range [-2^31, 2^31 - 1] – return 0 if it isn’t.\n",
    "\n",
    "Seems like a simple question, but we have to think about the edge cases. The input number must be in a given range, which is obvious. But what about integers that end with a zero? For example, reversing the number 1200 should result in 21, not 0021."
   ]
  },
  {
   "cell_type": "code",
   "execution_count": 12,
   "id": "19da8cbc-7771-4072-a5be-077ccf793f11",
   "metadata": {},
   "outputs": [
    {
     "name": "stdin",
     "output_type": "stream",
     "text": [
      "Give me an integer and I will reverse the digits 751\n"
     ]
    },
    {
     "name": "stdout",
     "output_type": "stream",
     "text": [
      "True\n",
      "True\n",
      "157\n"
     ]
    }
   ],
   "source": [
    "import operator\n",
    "x = input('Give me an integer and I will reverse the digits')\n",
    "print(operator.ge(int(x),-2^31))\n",
    "print(operator.ge(int(x),2^31 - 1))\n",
    "if operator.ge(int(x),-2^31) and operator.ge(int(x),2^31 - 1):\n",
    "    xreversed : str = ''\n",
    "    for i in range(len(x)):\n",
    "        xreversed = xreversed + x[len(x) - 1 - i]\n",
    "    print(xreversed)\n",
    "else:\n",
    "    print('0')"
   ]
  },
  {
   "cell_type": "markdown",
   "id": "def0f32c-c526-427f-8560-e23e2098bd83",
   "metadata": {},
   "source": [
    "# Problem description: \n",
    "Given a string s, find the first non-repeating character and return its index. If it doesn’t exist, return -1.\n",
    "\n",
    "Seems easy, so let’s give it a try. Remember to lowercase the input string, as letters A and a are identical:"
   ]
  },
  {
   "cell_type": "code",
   "execution_count": null,
   "id": "500f1751-a0d6-411e-8b2b-aecba00092cc",
   "metadata": {},
   "outputs": [],
   "source": []
  },
  {
   "cell_type": "markdown",
   "id": "bf71dfcb-97e7-4b37-a780-564afd5c3096",
   "metadata": {},
   "source": [
    "# Problem description: \n",
    "Given a valid (IPv4) IP address, return its defanged version. A defanged IP address replaces every period . with [.].\n",
    "\n",
    "There aren’t many edge cases here, assuming the string is passed to the function, and that string is an actual IP address. "
   ]
  },
  {
   "cell_type": "code",
   "execution_count": null,
   "id": "00cbf962-88b3-48ac-9759-c6b5be555b47",
   "metadata": {},
   "outputs": [],
   "source": []
  },
  {
   "cell_type": "markdown",
   "id": "9577e5cc-7dae-43d7-a78e-ba7a3ccc45ac",
   "metadata": {},
   "source": [
    "\n",
    "An Anagram is a word or phrase formed by rearranging the letters of a different word or phrase, typically using all the letters exactly once. For example, the words “anagram” and “nagaram” are anagrams.\n",
    "\n",
    "# Problem description: \n",
    "Given two strings a and b, return True if b is an anagram of a, and False otherwise.\n",
    "\n",
    "Two strings can’t be anagrams if they aren’t of the same length, so you’ll have to check for that first. If the length check passes, you can then store individual letters and their counts in two Python dictionaries – one for each word. If the dictionaries are identical, the strings are anagrams:"
   ]
  },
  {
   "cell_type": "code",
   "execution_count": null,
   "id": "63a89f7a-545e-4bff-a9a5-53460ac10297",
   "metadata": {},
   "outputs": [],
   "source": []
  },
  {
   "cell_type": "markdown",
   "id": "f136fde4-13ca-4119-924b-c8cf70c270b0",
   "metadata": {},
   "source": [
    "A string or phrase is a palindrome if after converting all uppercase letters into lowercase letters and removing all non-alphanumeric characters it reads the same forward and backward. For example, the string “Bob” is a palindrome, as it’s the same no matter from which side you read it.\n",
    "\n",
    "# Problem description: \n",
    "Given a string s, return True if it’s a palindrome, or False otherwise.\n",
    "\n",
    "To start, you should lowercase the string and remove all non-alphanumeric characters. Then, you can iterate over every letter of the string and reverse it by adding it to the front of the string:"
   ]
  },
  {
   "cell_type": "code",
   "execution_count": null,
   "id": "e7507d0c-7e62-4728-b1de-4e694eb8b0e3",
   "metadata": {},
   "outputs": [],
   "source": []
  },
  {
   "cell_type": "markdown",
   "id": "0218c238-b181-49d5-92d5-0b0274bae1a6",
   "metadata": {},
   "source": [
    "A factorial of a number is the product of all the integers from that number to 1. For example, the factorial of 5, or 5! is 5*4*3*2*1 = 120. Factorials are not defined for negative numbers and the factorial of zero is one.\n",
    "\n",
    "A recursive function is a function that calls itself during its execution. It needs an exit condition, or it will run indefinitely.\n",
    "\n",
    "Problem description: Given a positive integer x, return an integer that is a factorial of x. If a negative integer is provided, return -1. Implement the solution by using a recursive function.\n",
    "\n",
    "So there are two edge cases – when x is either 0 or negative. In the first case, we should return 1, and in the second case, we should return -1. If x is a positive integer, we can proceed with the calculation:"
   ]
  },
  {
   "cell_type": "code",
   "execution_count": null,
   "id": "01ca9a3c-8e06-48f2-abba-5bb388623eaf",
   "metadata": {},
   "outputs": [],
   "source": []
  }
 ],
 "metadata": {
  "kernelspec": {
   "display_name": "Python 3 (ipykernel)",
   "language": "python",
   "name": "python3"
  },
  "language_info": {
   "codemirror_mode": {
    "name": "ipython",
    "version": 3
   },
   "file_extension": ".py",
   "mimetype": "text/x-python",
   "name": "python",
   "nbconvert_exporter": "python",
   "pygments_lexer": "ipython3",
   "version": "3.9.13"
  },
  "toc-autonumbering": true,
  "toc-showcode": false,
  "toc-showmarkdowntxt": true
 },
 "nbformat": 4,
 "nbformat_minor": 5
}
