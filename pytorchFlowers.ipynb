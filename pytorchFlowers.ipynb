{
 "cells": [
  {
   "cell_type": "markdown",
   "id": "ec0144fa",
   "metadata": {},
   "source": [
    "# PyTorch Flowers Project"
   ]
  },
  {
   "cell_type": "code",
   "execution_count": 2,
   "id": "3b2dd97e",
   "metadata": {},
   "outputs": [],
   "source": [
    "import torch\n",
    "from torch import nn\n",
    "from torch.utils.data import DataLoader\n",
    "import torchvision\n",
    "from torchvision.transforms import ToTensor\n",
    "import scipy\n"
   ]
  },
  {
   "cell_type": "code",
   "execution_count": 3,
   "id": "eb8f036d",
   "metadata": {},
   "outputs": [],
   "source": [
    "#flowertensor = torchvision.io.read_image(\"C:/Users/megan/Desktop/flowers-102/jpg/image_00001.jpg\")\n",
    "train_flowers = torchvision.datasets.Flowers102(root=\"C:/Users/megan/Desktop\", split=\"train\", download=True\n",
    "                                                , transform=ToTensor()\n",
    "                                                )\n",
    "test_flowers = torchvision.datasets.Flowers102(root=\"C:/Users/megan/Desktop\", split=\"test\", download=True\n",
    "                                               , transform=ToTensor()\n",
    "                                              )\n"
   ]
  },
  {
   "cell_type": "code",
   "execution_count": 13,
   "id": "9948088d",
   "metadata": {},
   "outputs": [
    {
     "ename": "ModuleNotFoundError",
     "evalue": "No module named 'torch.utils.data_utils'",
     "output_type": "error",
     "traceback": [
      "\u001b[0;31m---------------------------------------------------------------------------\u001b[0m",
      "\u001b[0;31mModuleNotFoundError\u001b[0m                       Traceback (most recent call last)",
      "\u001b[0;32m/tmp/ipykernel_110394/167713396.py\u001b[0m in \u001b[0;36m<module>\u001b[0;34m\u001b[0m\n\u001b[1;32m      2\u001b[0m \u001b[0;34m\u001b[0m\u001b[0m\n\u001b[1;32m      3\u001b[0m \u001b[0;32mfrom\u001b[0m \u001b[0mtorch\u001b[0m\u001b[0;34m.\u001b[0m\u001b[0mnn\u001b[0m\u001b[0;34m.\u001b[0m\u001b[0mutils\u001b[0m\u001b[0;34m.\u001b[0m\u001b[0mrnn\u001b[0m \u001b[0;32mimport\u001b[0m \u001b[0mpad_sequence\u001b[0m\u001b[0;34m\u001b[0m\u001b[0;34m\u001b[0m\u001b[0m\n\u001b[0;32m----> 4\u001b[0;31m \u001b[0;32mfrom\u001b[0m \u001b[0mtorch\u001b[0m\u001b[0;34m.\u001b[0m\u001b[0mutils\u001b[0m\u001b[0;34m.\u001b[0m\u001b[0mdata_utils\u001b[0m \u001b[0;32mimport\u001b[0m \u001b[0mdefault_collate_fn_map\u001b[0m\u001b[0;34m\u001b[0m\u001b[0;34m\u001b[0m\u001b[0m\n\u001b[0m\u001b[1;32m      5\u001b[0m \u001b[0;34m\u001b[0m\u001b[0m\n\u001b[1;32m      6\u001b[0m \u001b[0;31m# Extend this function to handle batch of tensors\u001b[0m\u001b[0;34m\u001b[0m\u001b[0;34m\u001b[0m\u001b[0m\n",
      "\u001b[0;31mModuleNotFoundError\u001b[0m: No module named 'torch.utils.data_utils'"
     ]
    }
   ],
   "source": [
    "batch_size = 2\n",
    "\n",
    "from torch.nn.utils.rnn import pad_sequence\n",
    "from torch.utils.data_utils import default_collate_fn_map\n",
    "\n",
    "# Extend this function to handle batch of tensors\n",
    "def collate_tensor_fn(batch, *, collate_fn_map):\n",
    "    return torch.stack(batch, 0)\n",
    "def custom_collate(batch):\n",
    "    collate_map = {torch.Tensor: collate_tensor_fn}\n",
    "    return collate(batch, collate_fn_map=collate_map)\n",
    "# Extend `default_collate` by in-place modifying `default_collate_fn_map`\n",
    "default_collate_fn_map.update({torch.Tensor: collate_tensor_fn})\n",
    "\n",
    "# create data loader\n",
    "train_dataloader = DataLoader(train_flowers, collate_fn=collate_fn, batch_size=batch_size)\n",
    "\n",
    "#train_dataloader = pad_sequence(DataLoader(train_flowers, batch_size=batch_size))\n",
    "test_dataloader = DataLoader(test_flowers, batch_size=batch_size)\n",
    "\n",
    "for X, y in test_dataloader:\n",
    "    print(f\"Shape of X []: {X.shape}\")\n",
    "    print(f\"Shape of y: {y.dtype}\")\n",
    "    break\n"
   ]
  },
  {
   "cell_type": "markdown",
   "id": "be08a30c",
   "metadata": {},
   "source": [
    "In previous, tensor size is not equal, so it torch can't compare them, i think this is because the images aren't sized all the same and the number of dimensions of the 3rd parameter is inconsistent \n",
    "\n",
    "problem is in collate_fn \n",
    "https://pytorch.org/docs/stable/data.html#dataloader-collate-fn"
   ]
  },
  {
   "cell_type": "code",
   "execution_count": null,
   "id": "fabf4db0",
   "metadata": {},
   "outputs": [],
   "source": []
  }
 ],
 "metadata": {
  "kernelspec": {
   "display_name": "Python 3 (ipykernel)",
   "language": "python",
   "name": "python3"
  },
  "language_info": {
   "codemirror_mode": {
    "name": "ipython",
    "version": 3
   },
   "file_extension": ".py",
   "mimetype": "text/x-python",
   "name": "python",
   "nbconvert_exporter": "python",
   "pygments_lexer": "ipython3",
   "version": "3.9.13"
  }
 },
 "nbformat": 4,
 "nbformat_minor": 5
}
